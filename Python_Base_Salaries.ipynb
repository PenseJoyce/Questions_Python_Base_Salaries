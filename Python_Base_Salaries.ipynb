{
 "cells": [
  {
   "cell_type": "code",
   "execution_count": 178,
   "metadata": {},
   "outputs": [
    {
     "name": "stdout",
     "output_type": "stream",
     "text": [
      "['Id', 'EmployeeName', 'JobTitle', 'BasePay', 'OvertimePay', 'OtherPay', 'Benefits', 'TotalPay', 'TotalPayBenefits', 'Year', 'Notes', 'Agency', 'Status']\n"
     ]
    }
   ],
   "source": [
    "# Ex1- Quais colunas temos na base de salarios?\n",
    "\n",
    "import pandas as pd\n",
    "\n",
    "df = pd.read_csv('Salaries.csv')\n",
    "print(list(df.columns.values))"
   ]
  },
  {
   "cell_type": "code",
   "execution_count": 179,
   "metadata": {},
   "outputs": [
    {
     "name": "stdout",
     "output_type": "stream",
     "text": [
      "0         167411.18\n",
      "1         155966.02\n",
      "2         212739.13\n",
      "3          77916.00\n",
      "4         134401.60\n",
      "            ...    \n",
      "148649         0.00\n",
      "148650          NaN\n",
      "148651          NaN\n",
      "148652          NaN\n",
      "148653         0.00\n",
      "Name: BasePay, Length: 148654, dtype: float64\n"
     ]
    }
   ],
   "source": [
    "# Ex2- Qual é a coluna de salario base?\n",
    "\n",
    "print(df.BasePay)"
   ]
  },
  {
   "cell_type": "code",
   "execution_count": 180,
   "metadata": {},
   "outputs": [
    {
     "name": "stdout",
     "output_type": "stream",
     "text": [
      "66325.4488404877\n"
     ]
    }
   ],
   "source": [
    "# Ex3- Qual é o salário médio?\n",
    "\n",
    "teste = df.BasePay\n",
    "media = teste.mean()\n",
    "print(media)"
   ]
  },
  {
   "cell_type": "code",
   "execution_count": 181,
   "metadata": {},
   "outputs": [
    {
     "name": "stdout",
     "output_type": "stream",
     "text": [
      "319275.01\n"
     ]
    }
   ],
   "source": [
    "# Ex4- Qual é o salário máximo?\n",
    "\n",
    "SalarioMax = teste.max()\n",
    "print(SalarioMax)"
   ]
  },
  {
   "cell_type": "code",
   "execution_count": 182,
   "metadata": {},
   "outputs": [
    {
     "name": "stdout",
     "output_type": "stream",
     "text": [
      "24    CAPTAIN, FIRE SUPPRESSION\n",
      "Name: JobTitle, dtype: object\n"
     ]
    }
   ],
   "source": [
    "# Ex5- Qual é o emprego do JOSEPH DRISCOLL?\n",
    "\n",
    "filtro = df.loc[(df['EmployeeName'] == 'JOSEPH DRISCOLL')].JobTitle\n",
    "print(filtro)"
   ]
  },
  {
   "cell_type": "code",
   "execution_count": 183,
   "metadata": {},
   "outputs": [
    {
     "name": "stdout",
     "output_type": "stream",
     "text": [
      "72925    Gregory P Suhr\n",
      "Name: EmployeeName, dtype: object\n"
     ]
    }
   ],
   "source": [
    "# Ex6- Qual o nome da pessoa que tem o maior salário?\n",
    "\n",
    "filtro2 = df.loc[(df['BasePay'] == SalarioMax)].EmployeeName\n",
    "print(filtro2)"
   ]
  },
  {
   "cell_type": "code",
   "execution_count": 184,
   "metadata": {},
   "outputs": [
    {
     "data": {
      "text/html": [
       "<div>\n",
       "<style scoped>\n",
       "    .dataframe tbody tr th:only-of-type {\n",
       "        vertical-align: middle;\n",
       "    }\n",
       "\n",
       "    .dataframe tbody tr th {\n",
       "        vertical-align: top;\n",
       "    }\n",
       "\n",
       "    .dataframe thead th {\n",
       "        text-align: right;\n",
       "    }\n",
       "</style>\n",
       "<table border=\"1\" class=\"dataframe\">\n",
       "  <thead>\n",
       "    <tr style=\"text-align: right;\">\n",
       "      <th></th>\n",
       "      <th>Year</th>\n",
       "      <th>fl_media</th>\n",
       "    </tr>\n",
       "  </thead>\n",
       "  <tbody>\n",
       "    <tr>\n",
       "      <th>0</th>\n",
       "      <td>2011</td>\n",
       "      <td>63595.956517</td>\n",
       "    </tr>\n",
       "    <tr>\n",
       "      <th>1</th>\n",
       "      <td>2012</td>\n",
       "      <td>65436.406857</td>\n",
       "    </tr>\n",
       "    <tr>\n",
       "      <th>2</th>\n",
       "      <td>2013</td>\n",
       "      <td>69630.030216</td>\n",
       "    </tr>\n",
       "    <tr>\n",
       "      <th>3</th>\n",
       "      <td>2014</td>\n",
       "      <td>66564.421924</td>\n",
       "    </tr>\n",
       "  </tbody>\n",
       "</table>\n",
       "</div>"
      ],
      "text/plain": [
       "   Year      fl_media\n",
       "0  2011  63595.956517\n",
       "1  2012  65436.406857\n",
       "2  2013  69630.030216\n",
       "3  2014  66564.421924"
      ]
     },
     "execution_count": 184,
     "metadata": {},
     "output_type": "execute_result"
    }
   ],
   "source": [
    "# Ex7- Qual é a média salárial por ano?\n",
    "\n",
    "agp_df = df.groupby(['Year']).agg({'BasePay': 'mean'})  \n",
    "agp_df.reset_index(inplace=True)\n",
    "agp_df = agp_df.rename({'BasePay': 'fl_media'}, axis = 1)\n",
    "agp_df"
   ]
  },
  {
   "cell_type": "code",
   "execution_count": 185,
   "metadata": {},
   "outputs": [
    {
     "data": {
      "text/html": [
       "<div>\n",
       "<style scoped>\n",
       "    .dataframe tbody tr th:only-of-type {\n",
       "        vertical-align: middle;\n",
       "    }\n",
       "\n",
       "    .dataframe tbody tr th {\n",
       "        vertical-align: top;\n",
       "    }\n",
       "\n",
       "    .dataframe thead th {\n",
       "        text-align: right;\n",
       "    }\n",
       "</style>\n",
       "<table border=\"1\" class=\"dataframe\">\n",
       "  <thead>\n",
       "    <tr style=\"text-align: right;\">\n",
       "      <th></th>\n",
       "      <th>jobT</th>\n",
       "      <th>quantidade</th>\n",
       "    </tr>\n",
       "  </thead>\n",
       "  <tbody>\n",
       "    <tr>\n",
       "      <th>0</th>\n",
       "      <td>Transit Operator</td>\n",
       "      <td>7036</td>\n",
       "    </tr>\n",
       "    <tr>\n",
       "      <th>1</th>\n",
       "      <td>Special Nurse</td>\n",
       "      <td>4389</td>\n",
       "    </tr>\n",
       "    <tr>\n",
       "      <th>2</th>\n",
       "      <td>Registered Nurse</td>\n",
       "      <td>3736</td>\n",
       "    </tr>\n",
       "    <tr>\n",
       "      <th>3</th>\n",
       "      <td>Public Svc Aide-Public Works</td>\n",
       "      <td>2518</td>\n",
       "    </tr>\n",
       "    <tr>\n",
       "      <th>4</th>\n",
       "      <td>Police Officer 3</td>\n",
       "      <td>2421</td>\n",
       "    </tr>\n",
       "  </tbody>\n",
       "</table>\n",
       "</div>"
      ],
      "text/plain": [
       "                           jobT  quantidade\n",
       "0              Transit Operator        7036\n",
       "1                 Special Nurse        4389\n",
       "2              Registered Nurse        3736\n",
       "3  Public Svc Aide-Public Works        2518\n",
       "4              Police Officer 3        2421"
      ]
     },
     "execution_count": 185,
     "metadata": {},
     "output_type": "execute_result"
    }
   ],
   "source": [
    "# Ex8- Quais são os cinco empregos mais comuns (JobTitle)?\n",
    "\n",
    "agp_df2 = df['JobTitle'].value_counts()\n",
    "agp_df2 = pd.DataFrame(agp_df2)\n",
    " \n",
    "agp_df2.reset_index(inplace=True)\n",
    "agp_df2 = agp_df2.rename({'JobTitle': 'quantidade', 'index': 'jobT'}, axis = 1)\n",
    "\n",
    "agp_df2 = agp_df2.sort_values('quantidade', ascending=False)\n",
    "\n",
    "agp_df2 = agp_df2.head(5)\n",
    "agp_df2 "
   ]
  },
  {
   "cell_type": "markdown",
   "metadata": {},
   "source": [
    "## O que é correlação? #\n",
    "\n",
    "A análise de correlação é uma forma descritiva que mede se há e qual o grau de dependência entre variáveis, ou seja, o quanto uma variável interfere em outra, lembrando que essa relação de dependência pode ou não ser causal. Essa medida de grau de relação é medida através de coeficientes. No caso deste post, nós vamos focar no coeficiente de Pearson.\n",
    "\n",
    "O coeficiente de Pearson, também chamado de “coeficiente de correlação produto-momento” ou chamado de “ρ de Pearson”, mede o grau de correlação através do cálculo de direção positiva ou negativa. Este coeficiente, normalmente representado por ρ assume apenas valores entre -1 e 1.\n",
    "\n",
    "A análise de correlação vai retornar três possíveis cenários: (1) correlação positiva; (2) correlação negativa; e (3) não há correlação.\n",
    "\n",
    "* Correlação positiva: quando duas variáveis que possuem correlação crescem ou decrescem juntas, ou seja, que possuem uma relação direta;\n",
    "* Correlação negativa: quando duas variáveis que possuem correlação mas quando uma variável cresce a outra decresce, ou vice-versa;\n",
    "* Não ter correlação: quando o crescimento ou decrescimento de uma variável não tem efeito sobre outra variável.\n",
    "\n",
    "Como podemos interpretar os valores*  que ρ pode assumir?\n",
    "\n",
    "ρ = 0,9 a 1 : correlação muito forte; \n",
    "\n",
    "ρ = 0,7 a 09 : correlação forte;\n",
    "\n",
    "ρ = 0,5 a 0,7 : correlação moderada;\n",
    "\n",
    "ρ = 0,3 a 0,5 : correlação fraca;\n",
    "\n",
    "ρ = 0 a 0,3 : não possui correlação.\n",
    "\n",
    "_* Valores positivos ou negativos_\n",
    "\n",
    "Em python, para verificar a correlação usamos a biblioteca _seaborn_. Para a análise de correlação vamos utilizar a função .corr(). Para visualizarmos a matriz de correlação, vamos utilizar a função _.heatmap()_ do pacote seaborn, essa função vai nos retornar uma forma gráfica da matriz com uma escala de cor em conjunto com uma escala numérica, as quais vão indicar o grau medido entre as variáveis."
   ]
  },
  {
   "cell_type": "code",
   "execution_count": 186,
   "metadata": {},
   "outputs": [
    {
     "data": {
      "text/plain": [
       "<Axes: >"
      ]
     },
     "execution_count": 186,
     "metadata": {},
     "output_type": "execute_result"
    },
    {
     "data": {
      "image/png": "[encoded data removed]",
      "text/plain": [
       "<Figure size 640x480 with 2 Axes>"
      ]
     },
     "metadata": {},
     "output_type": "display_data"
    }
   ],
   "source": [
    "#Ex9 - Existe correlação entre ano e salário?\n",
    "import seaborn as sn\n",
    "\n",
    "df_corr = df[['TotalPay', 'Year', 'Benefits']].copy()\n",
    "df_corr.head()\n",
    "\n",
    "# Análise de correlação\n",
    "\n",
    "correlation = df_corr.corr()\n",
    "correlation\n",
    "\n",
    "# plot da matriz de correlação\n",
    "\n",
    "plot = sn.heatmap(correlation, annot = True, fmt=\".1f\", linewidths=.6)\n",
    "plot\n",
    "\n",
    "# Neste caso não temos correlação.\n"
   ]
  },
  {
   "cell_type": "code",
   "execution_count": 203,
   "metadata": {},
   "outputs": [
    {
     "data": {
      "image/png": "[encoded data removed]",
      "text/plain": [
       "<Figure size 640x480 with 1 Axes>"
      ]
     },
     "metadata": {},
     "output_type": "display_data"
    }
   ],
   "source": [
    "#Ex9.2 - Soma de salarios por ano:\n",
    "\n",
    "import matplotlib.pyplot as plt\n",
    "\n",
    "Year = agp_df['Year']\n",
    "fl_media = agp_df['fl_media']\n",
    "\n",
    "plt.bar(Year, fl_media, color = 'blue')\n",
    "\n",
    "plt.ylabel('Média Salarial')\n",
    "plt.xlabel('Ano')\n",
    "plt.title('Salário x ano')\n",
    "\n",
    "plt.show()"
   ]
  },
  {
   "cell_type": "code",
   "execution_count": 188,
   "metadata": {},
   "outputs": [],
   "source": [
    "# Ex10- Como criar um outro dataframe selecionando apenas algumas colunas do dataframe original?\n",
    "\n",
    "df_copy = df[['Year', 'Notes', 'Agency', 'Status']].copy()"
   ]
  }
 ],
 "metadata": {
  "kernelspec": {
   "display_name": "base",
   "language": "python",
   "name": "python3"
  },
  "language_info": {
   "codemirror_mode": {
    "name": "ipython",
    "version": 3
   },
   "file_extension": ".py",
   "mimetype": "text/x-python",
   "name": "python",
   "nbconvert_exporter": "python",
   "pygments_lexer": "ipython3",
   "version": "3.10.9"
  },
  "orig_nbformat": 4
 },
 "nbformat": 4,
 "nbformat_minor": 2
}
